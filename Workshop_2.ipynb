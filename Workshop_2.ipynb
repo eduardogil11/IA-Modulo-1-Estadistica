{
  "nbformat": 4,
  "nbformat_minor": 0,
  "metadata": {
    "colab": {
      "name": "Workshop 2.ipynb",
      "provenance": [],
      "authorship_tag": "ABX9TyO/kW/uMGe8fXDMwq2VvNl2",
      "include_colab_link": true
    },
    "kernelspec": {
      "name": "python3",
      "display_name": "Python 3"
    },
    "language_info": {
      "name": "python"
    }
  },
  "cells": [
    {
      "cell_type": "markdown",
      "metadata": {
        "id": "view-in-github",
        "colab_type": "text"
      },
      "source": [
        "<a href=\"https://colab.research.google.com/github/eduardogil11/IA-Modulo-1-Estadistica/blob/main/Workshop_2.ipynb\" target=\"_parent\"><img src=\"https://colab.research.google.com/assets/colab-badge.svg\" alt=\"Open In Colab\"/></a>"
      ]
    },
    {
      "cell_type": "markdown",
      "source": [
        "# Workshop 2, Advanced AI - Statistics Module"
      ],
      "metadata": {
        "id": "Go-OxSfj-jTE"
      }
    },
    {
      "cell_type": "markdown",
      "source": [
        "Eduardo Rodríguez Gil - A01274913"
      ],
      "metadata": {
        "id": "Mda1gq7O-nV1"
      }
    },
    {
      "cell_type": "markdown",
      "source": [
        "## 2.2 Monte Carlo simulation"
      ],
      "metadata": {
        "id": "-JfO7LK6-vu2"
      }
    },
    {
      "cell_type": "markdown",
      "source": [
        "We load the symbulate and the matplotlib libraries:"
      ],
      "metadata": {
        "id": "Us94WoFYgIu0"
      }
    },
    {
      "cell_type": "code",
      "execution_count": null,
      "metadata": {
        "id": "wQiM5pRLf_SE"
      },
      "outputs": [],
      "source": [
        "from symbulate import *\n",
        "#'exec(%matplotlib inline)' \n",
        "import matplotlib\n",
        "\n",
        "import matplotlib.pyplot as plt"
      ]
    },
    {
      "cell_type": "code",
      "source": [
        "!pip install symbulate"
      ],
      "metadata": {
        "colab": {
          "base_uri": "https://localhost:8080/"
        },
        "id": "Pl2RqIYagOs3",
        "outputId": "a0d69285-9c99-4eed-b607-04872a7e4dc8"
      },
      "execution_count": null,
      "outputs": [
        {
          "output_type": "stream",
          "name": "stdout",
          "text": [
            "Looking in indexes: https://pypi.org/simple, https://us-python.pkg.dev/colab-wheels/public/simple/\n",
            "Collecting symbulate\n",
            "  Downloading symbulate-0.5.7-py3-none-any.whl (44 kB)\n",
            "\u001b[K     |████████████████████████████████| 44 kB 869 kB/s \n",
            "\u001b[?25hRequirement already satisfied: scipy in /usr/local/lib/python3.7/dist-packages (from symbulate) (1.7.3)\n",
            "Requirement already satisfied: matplotlib in /usr/local/lib/python3.7/dist-packages (from symbulate) (3.2.2)\n",
            "Requirement already satisfied: numpy in /usr/local/lib/python3.7/dist-packages (from symbulate) (1.21.6)\n",
            "Requirement already satisfied: cycler>=0.10 in /usr/local/lib/python3.7/dist-packages (from matplotlib->symbulate) (0.11.0)\n",
            "Requirement already satisfied: kiwisolver>=1.0.1 in /usr/local/lib/python3.7/dist-packages (from matplotlib->symbulate) (1.4.4)\n",
            "Requirement already satisfied: python-dateutil>=2.1 in /usr/local/lib/python3.7/dist-packages (from matplotlib->symbulate) (2.8.2)\n",
            "Requirement already satisfied: pyparsing!=2.0.4,!=2.1.2,!=2.1.6,>=2.0.1 in /usr/local/lib/python3.7/dist-packages (from matplotlib->symbulate) (3.0.9)\n",
            "Requirement already satisfied: typing-extensions in /usr/local/lib/python3.7/dist-packages (from kiwisolver>=1.0.1->matplotlib->symbulate) (4.1.1)\n",
            "Requirement already satisfied: six>=1.5 in /usr/local/lib/python3.7/dist-packages (from python-dateutil>=2.1->matplotlib->symbulate) (1.15.0)\n",
            "Installing collected packages: symbulate\n",
            "Successfully installed symbulate-0.5.7\n"
          ]
        }
      ]
    },
    {
      "cell_type": "markdown",
      "source": [
        "## 2.2.1 Simulating numbers with the UNIFORM probability distribution"
      ],
      "metadata": {
        "id": "SG9C-Uy3-9cC"
      }
    },
    {
      "cell_type": "markdown",
      "source": [
        "We define a uniform random variable X and simulate 10,000 uniform random numbers with values from 0 to 40:"
      ],
      "metadata": {
        "id": "QTP1lx_OhecJ"
      }
    },
    {
      "cell_type": "code",
      "source": [
        "# clear the plot space:\n",
        "plt.clf()\n",
        "# Define the probability type of function as uniform (probability space)\n",
        "P = Uniform(0,40)\n",
        "# Define X as a random variable of the type P (uniform)\n",
        "X =RV(P)\n",
        "# Simulate the values of X and save the in the x array: \n",
        "x=X.sim(10000)\n",
        "x.plot()\n",
        "plt.show()"
      ],
      "metadata": {
        "colab": {
          "base_uri": "https://localhost:8080/",
          "height": 265
        },
        "id": "MZXi6zovhf2L",
        "outputId": "11b321bf-f89a-4f47-def1-444353586a54"
      },
      "execution_count": null,
      "outputs": [
        {
          "output_type": "display_data",
          "data": {
            "text/plain": [
              "<Figure size 432x288 with 1 Axes>"
            ],
            "image/png": "[encoded data removed]"
          },
          "metadata": {
            "needs_background": "light"
          }
        }
      ]
    },
    {
      "cell_type": "markdown",
      "source": [
        "## 2.2.2 CHALLENGE"
      ],
      "metadata": {
        "id": "h3QXYBjm_HAd"
      }
    },
    {
      "cell_type": "code",
      "source": [
        "print(x.mean())\n",
        "print(x.std())"
      ],
      "metadata": {
        "colab": {
          "base_uri": "https://localhost:8080/"
        },
        "id": "JKNHbWmRhr1N",
        "outputId": "790b1364-3e83-4117-85e4-0d56a1b1a699"
      },
      "execution_count": null,
      "outputs": [
        {
          "output_type": "stream",
          "name": "stdout",
          "text": [
            "19.89601214267391\n",
            "11.549795450188242\n"
          ]
        }
      ]
    },
    {
      "cell_type": "markdown",
      "source": [
        "Now generate 10,000 groups of 25 uniform random variables to end up in a matrix of 10,000 rows and 25 columns:"
      ],
      "metadata": {
        "id": "X6-0uc4ni6Ju"
      }
    },
    {
      "cell_type": "code",
      "source": [
        "# Define the probability space as a vector of 25 uniform random numbers:\n",
        "P = Uniform(0,40) ** 25\n",
        "# Define XVECTOR as a vector of random variables with 25 random values \n",
        "XVECTOR =RV(P)\n",
        "# Simulate 10,000 vectors to get a matrix  \n",
        "xmatrix=XVECTOR.sim(10000)"
      ],
      "metadata": {
        "id": "ZiQNxrfmi7FS"
      },
      "execution_count": null,
      "outputs": []
    },
    {
      "cell_type": "markdown",
      "source": [
        "Now xmatrix will have 10,000 rows and 25 columns of uniform random numbers between 0 and 40:"
      ],
      "metadata": {
        "id": "HJv50SV-jAb9"
      }
    },
    {
      "cell_type": "code",
      "source": [
        "xmatrix"
      ],
      "metadata": {
        "colab": {
          "base_uri": "https://localhost:8080/",
          "height": 271
        },
        "id": "a9g0QOJcjBFT",
        "outputId": "f7dbbf58-ca33-43f6-812a-2a8edc8be2ff"
      },
      "execution_count": null,
      "outputs": [
        {
          "output_type": "execute_result",
          "data": {
            "text/plain": [
              "Index Result\n",
              "0     (19.87500281153205, 12.078350627203797, 35.78410615160707, 26.17636111478488, 36.85956730502613, ..., 21.114109045331773)\n",
              "1     (1.495714535883299, 34.02514901573384, 1.7012556107297039, 29.417787630295575, 23.81492781216962, ..., 35.70511971310235)\n",
              "2     (17.8399891165123, 3.639684173708533, 27.826375134035516, 38.26546380017238, 38.59605369491205, ..., 13.536512693535418)\n",
              "3     (29.472965547546078, 23.48590673914156, 8.00766608742228, 37.32740332114348, 3.345025981445038, ..., 36.10925188158676)\n",
              "4     (7.302314360559552, 5.059896543859237, 36.47475333510083, 13.63509700198868, 31.703339918281124, ..., 33.620857143166695)\n",
              "5     (38.07250591744363, 3.855736764639217, 2.978801790734993, 30.587699387255, 3.6420252226803207, ..., 2.598557750085737)\n",
              "6     (37.40816456804654, 22.253540091731168, 15.940053414120579, 18.065229226279165, 19.840013589306107, ..., 28.862264498436886)\n",
              "7     (38.77598705180886, 27.55698856475639, 20.660397420955853, 36.00212088817362, 19.179460241714583, ..., 16.156743462221254)\n",
              "8     (8.819051157770765, 24.46507128012282, 38.45302299433947, 32.388108751086, 16.805558003698255, ..., 5.057116950218501)\n",
              "....  ........................................................................................................................\n",
              "9999  (5.512871421026815, 20.290493702585046, 22.77398487019393, 1.7508073939926083, 39.519331576844, ..., 7.1797538355911295)"
            ],
            "text/html": [
              "\n",
              "    <table>\n",
              "      <thead>\n",
              "        <th width=\"10%\">Index</th>\n",
              "        <th width=\"90%\">Result</th>\n",
              "      </thead>\n",
              "      <tbody>\n",
              "        \n",
              "        <tr>\n",
              "          <td>0</td><td>(19.87500281153205, 12.078350627203797, 35.78410615160707, 26.17636111478488, 36.85956730502613, ......</td>\n",
              "        </tr>\n",
              "        \n",
              "        <tr>\n",
              "          <td>1</td><td>(1.495714535883299, 34.02514901573384, 1.7012556107297039, 29.417787630295575, 23.81492781216962, .....</td>\n",
              "        </tr>\n",
              "        \n",
              "        <tr>\n",
              "          <td>2</td><td>(17.8399891165123, 3.639684173708533, 27.826375134035516, 38.26546380017238, 38.59605369491205, ...,...</td>\n",
              "        </tr>\n",
              "        \n",
              "        <tr>\n",
              "          <td>3</td><td>(29.472965547546078, 23.48590673914156, 8.00766608742228, 37.32740332114348, 3.345025981445038, ...,...</td>\n",
              "        </tr>\n",
              "        \n",
              "        <tr>\n",
              "          <td>4</td><td>(7.302314360559552, 5.059896543859237, 36.47475333510083, 13.63509700198868, 31.703339918281124, ......</td>\n",
              "        </tr>\n",
              "        \n",
              "        <tr>\n",
              "          <td>5</td><td>(38.07250591744363, 3.855736764639217, 2.978801790734993, 30.587699387255, 3.6420252226803207, ..., ...</td>\n",
              "        </tr>\n",
              "        \n",
              "        <tr>\n",
              "          <td>6</td><td>(37.40816456804654, 22.253540091731168, 15.940053414120579, 18.065229226279165, 19.840013589306107, ...</td>\n",
              "        </tr>\n",
              "        \n",
              "        <tr>\n",
              "          <td>7</td><td>(38.77598705180886, 27.55698856475639, 20.660397420955853, 36.00212088817362, 19.179460241714583, .....</td>\n",
              "        </tr>\n",
              "        \n",
              "        <tr>\n",
              "          <td>8</td><td>(8.819051157770765, 24.46507128012282, 38.45302299433947, 32.388108751086, 16.805558003698255, ..., ...</td>\n",
              "        </tr>\n",
              "        <tr><td>...</td><td>...</td></tr>\n",
              "        <tr>\n",
              "          <td>9999</td><td>(5.512871421026815, 20.290493702585046, 22.77398487019393, 1.7508073939926083, 39.519331576844, ...,...</td>\n",
              "        </tr>\n",
              "        \n",
              "      </tbody>\n",
              "    </table>\n",
              "        "
            ]
          },
          "metadata": {},
          "execution_count": 6
        }
      ]
    },
    {
      "cell_type": "markdown",
      "source": [
        "Now we get the mean of each row, so we end up with 10,000 sample means:"
      ],
      "metadata": {
        "id": "n4s5Cm0wjGM-"
      }
    },
    {
      "cell_type": "code",
      "source": [
        "# The 2nd parameter is the mathematical operation applied to each row of the random vector\n",
        "# Simulate 10,000 means of each random vector of 25 uniform distributed numbers: \n",
        "xmean = RV(P,mean).sim(10000)\n",
        "xmean"
      ],
      "metadata": {
        "colab": {
          "base_uri": "https://localhost:8080/",
          "height": 271
        },
        "id": "AoeacrD8jHOp",
        "outputId": "534f0e20-511b-457e-b42a-068b3641c574"
      },
      "execution_count": null,
      "outputs": [
        {
          "output_type": "execute_result",
          "data": {
            "text/plain": [
              "Index Result\n",
              "0     18.896616194782855\n",
              "1     22.12151615279048\n",
              "2     22.368039239505553\n",
              "3     20.155961741274925\n",
              "4     19.842627624322766\n",
              "5     18.980340635216596\n",
              "6     21.590705338982158\n",
              "7     19.799071951895378\n",
              "8     17.36469302502515\n",
              "....  ..................\n",
              "9999  20.129146003598454"
            ],
            "text/html": [
              "\n",
              "    <table>\n",
              "      <thead>\n",
              "        <th width=\"10%\">Index</th>\n",
              "        <th width=\"90%\">Result</th>\n",
              "      </thead>\n",
              "      <tbody>\n",
              "        \n",
              "        <tr>\n",
              "          <td>0</td><td>18.896616194782855</td>\n",
              "        </tr>\n",
              "        \n",
              "        <tr>\n",
              "          <td>1</td><td>22.12151615279048</td>\n",
              "        </tr>\n",
              "        \n",
              "        <tr>\n",
              "          <td>2</td><td>22.368039239505553</td>\n",
              "        </tr>\n",
              "        \n",
              "        <tr>\n",
              "          <td>3</td><td>20.155961741274925</td>\n",
              "        </tr>\n",
              "        \n",
              "        <tr>\n",
              "          <td>4</td><td>19.842627624322766</td>\n",
              "        </tr>\n",
              "        \n",
              "        <tr>\n",
              "          <td>5</td><td>18.980340635216596</td>\n",
              "        </tr>\n",
              "        \n",
              "        <tr>\n",
              "          <td>6</td><td>21.590705338982158</td>\n",
              "        </tr>\n",
              "        \n",
              "        <tr>\n",
              "          <td>7</td><td>19.799071951895378</td>\n",
              "        </tr>\n",
              "        \n",
              "        <tr>\n",
              "          <td>8</td><td>17.36469302502515</td>\n",
              "        </tr>\n",
              "        <tr><td>...</td><td>...</td></tr>\n",
              "        <tr>\n",
              "          <td>9999</td><td>20.129146003598454</td>\n",
              "        </tr>\n",
              "        \n",
              "      </tbody>\n",
              "    </table>\n",
              "        "
            ]
          },
          "metadata": {},
          "execution_count": 7
        }
      ]
    },
    {
      "cell_type": "markdown",
      "source": [
        "Now do a histogram of these sample means that come from a UNIFORM distribution."
      ],
      "metadata": {
        "id": "UEf6b2DjjNbv"
      }
    },
    {
      "cell_type": "code",
      "source": [
        "plt.clf()\n",
        "xmean.plot()\n",
        "plt.show()"
      ],
      "metadata": {
        "colab": {
          "base_uri": "https://localhost:8080/",
          "height": 265
        },
        "id": "QXffc3e4jN_a",
        "outputId": "adb4af7c-f52a-4363-9479-ebb6e1d2fa41"
      },
      "execution_count": null,
      "outputs": [
        {
          "output_type": "display_data",
          "data": {
            "text/plain": [
              "<Figure size 432x288 with 1 Axes>"
            ],
            "image/png": "[encoded data removed]"
          },
          "metadata": {
            "needs_background": "light"
          }
        }
      ]
    },
    {
      "cell_type": "markdown",
      "source": [
        "## 2.2.3 CHALLENGE"
      ],
      "metadata": {
        "id": "9Dn0Ii_Y_Qk7"
      }
    },
    {
      "cell_type": "code",
      "source": [
        "print(xmean.mean())\n",
        "print(xmean.std())"
      ],
      "metadata": {
        "colab": {
          "base_uri": "https://localhost:8080/"
        },
        "id": "ylihVhHeoBXr",
        "outputId": "cad86513-0203-4ae3-b129-f408de98beb0"
      },
      "execution_count": null,
      "outputs": [
        {
          "output_type": "stream",
          "name": "stdout",
          "text": [
            "20.012912844359402\n",
            "2.3012432215713003\n"
          ]
        }
      ]
    },
    {
      "cell_type": "markdown",
      "source": [
        "Now plot both variables in the same plot; the original x uniform variable and the xsample variable (the sample means of x)."
      ],
      "metadata": {
        "id": "G-IKQocBpo7n"
      }
    },
    {
      "cell_type": "code",
      "source": [
        "plt.clf()\n",
        "xmean.plot()\n",
        "x.plot()\n",
        "plt.show()"
      ],
      "metadata": {
        "colab": {
          "base_uri": "https://localhost:8080/",
          "height": 265
        },
        "id": "zJ2mmQglpqRQ",
        "outputId": "66b641b4-b21e-4044-e06b-26e944f9a9e5"
      },
      "execution_count": null,
      "outputs": [
        {
          "output_type": "display_data",
          "data": {
            "text/plain": [
              "<Figure size 432x288 with 1 Axes>"
            ],
            "image/png": "[encoded data removed]"
          },
          "metadata": {
            "needs_background": "light"
          }
        }
      ]
    },
    {
      "cell_type": "markdown",
      "source": [
        "## 2.2.4 Simulating numbers with the NORMAL probability distribution"
      ],
      "metadata": {
        "id": "gmPEV0_9_V5J"
      }
    },
    {
      "cell_type": "markdown",
      "source": [
        "Let’s simulate a normal distributed variable Y with mean = 20 and standard devation = 10."
      ],
      "metadata": {
        "id": "r7-mnBiLpxCP"
      }
    },
    {
      "cell_type": "code",
      "source": [
        "# clear the plot space:\n",
        "plt.clf()\n",
        "# Define the probability type of function as uniform (probability space)\n",
        "P = Normal(mean=20, sd=10)\n",
        "# Define Y as a random variable of the type P (normal)\n",
        "Y =RV(P)\n",
        "# Simulate 10,000 values of Y and save the in the x array: \n",
        "y=Y.sim(10000)\n",
        "y.plot()\n",
        "plt.show()"
      ],
      "metadata": {
        "colab": {
          "base_uri": "https://localhost:8080/",
          "height": 265
        },
        "id": "sIdgZ_Dopx6A",
        "outputId": "56984eb3-6beb-4cb3-c03c-3aace3a5ab0a"
      },
      "execution_count": null,
      "outputs": [
        {
          "output_type": "display_data",
          "data": {
            "text/plain": [
              "<Figure size 432x288 with 1 Axes>"
            ],
            "image/png": "[encoded data removed]"
          },
          "metadata": {
            "needs_background": "light"
          }
        }
      ]
    },
    {
      "cell_type": "markdown",
      "source": [
        "## 2.2.5 CHALLENGE"
      ],
      "metadata": {
        "id": "2ksYUtBk_bJ0"
      }
    },
    {
      "cell_type": "code",
      "source": [
        "print(y.mean())\n",
        "print(y.std())"
      ],
      "metadata": {
        "colab": {
          "base_uri": "https://localhost:8080/"
        },
        "id": "t26YtyDzqgsk",
        "outputId": "cb8158de-942a-4348-a8db-ab8915911c3a"
      },
      "execution_count": null,
      "outputs": [
        {
          "output_type": "stream",
          "name": "stdout",
          "text": [
            "19.71157572969152\n",
            "10.029577775604613\n"
          ]
        }
      ]
    },
    {
      "cell_type": "markdown",
      "source": [
        "Now generate 10,000 groups of 25 NORMAL random variables with mean=20 and SD=10. You will end up with a matrix of 10,000 rows and 25 columns:"
      ],
      "metadata": {
        "id": "-enlGenvqmEy"
      }
    },
    {
      "cell_type": "code",
      "source": [
        "# Define the probability space P as a vector of 25 normal random numbers:\n",
        "P = Normal(mean=20, sd=10) ** 25\n",
        "# Define RANDOMVECTOR as a vector of 25 random variables in the Probability space P \n",
        "RANDOMVECTOR = RV(P)\n",
        "# Simulate 10,000 random vectors with this distribution and save the in ymatrix: \n",
        "ymatrix=RANDOMVECTOR.sim(10000)"
      ],
      "metadata": {
        "id": "O6UgiNRKqlxB"
      },
      "execution_count": null,
      "outputs": []
    },
    {
      "cell_type": "markdown",
      "source": [
        "Now ymatrix will have 10,000 rows and 25 columns of NORMAL random numbers with mean=20 and SD=10:"
      ],
      "metadata": {
        "id": "Rw7doTh_qqoO"
      }
    },
    {
      "cell_type": "code",
      "source": [
        "ymatrix"
      ],
      "metadata": {
        "colab": {
          "base_uri": "https://localhost:8080/",
          "height": 271
        },
        "id": "Fm4PCl4Oqrww",
        "outputId": "d7401efe-093d-4011-a249-7bc58d2f628f"
      },
      "execution_count": null,
      "outputs": [
        {
          "output_type": "execute_result",
          "data": {
            "text/plain": [
              "Index Result\n",
              "0     (18.389670979542387, 14.050828758232537, 13.488509972052864, 33.50713084081583, 30.02322998314113, ..., 22.662334420998793)\n",
              "1     (20.582221192916613, 26.472771368076277, 20.098717989194434, 12.67317377770681, 18.813319083118003, ..., 17.06542817412046)\n",
              "2     (11.794696359740053, 16.561078550387894, 20.296385388059036, 14.058538060936876, 28.85720491862602, ..., 2.7574675633180092)\n",
              "3     (27.08475500332118, 13.33032107559741, 17.24285012787526, 34.35750605105223, 3.0244442874218826, ..., 25.848932681218137)\n",
              "4     (25.52787475259755, 19.477567886795008, 16.799760626352906, -8.383396828277068, 17.509151836580948, ..., -6.4102821141509665)\n",
              "5     (24.430685415818424, 37.76069833891667, 20.46008648501996, 32.71022629342279, 15.671570096790711, ..., 26.444819687998105)\n",
              "6     (15.095572328974553, 25.318917185187885, 31.247299413058098, 18.461017114134044, 22.353062196968448, ..., 37.12204605194084)\n",
              "7     (22.211126504198607, 25.00627797257596, 1.7068517356459303, 20.626907858801832, 20.380228807475167, ..., 20.994926105894702)\n",
              "8     (41.28346792527652, 29.070545303041236, 15.799849908270954, 19.946059211580682, -9.186989000798455, ..., 14.45435203184627)\n",
              "....  ..........................................................................................................................\n",
              "9999  (10.345119494013158, 14.97905269286256, 18.040632736462765, 24.536578230893994, 14.259978407607813, ..., 8.92385521490821)"
            ],
            "text/html": [
              "\n",
              "    <table>\n",
              "      <thead>\n",
              "        <th width=\"10%\">Index</th>\n",
              "        <th width=\"90%\">Result</th>\n",
              "      </thead>\n",
              "      <tbody>\n",
              "        \n",
              "        <tr>\n",
              "          <td>0</td><td>(18.389670979542387, 14.050828758232537, 13.488509972052864, 33.50713084081583, 30.02322998314113, ....</td>\n",
              "        </tr>\n",
              "        \n",
              "        <tr>\n",
              "          <td>1</td><td>(20.582221192916613, 26.472771368076277, 20.098717989194434, 12.67317377770681, 18.813319083118003, ...</td>\n",
              "        </tr>\n",
              "        \n",
              "        <tr>\n",
              "          <td>2</td><td>(11.794696359740053, 16.561078550387894, 20.296385388059036, 14.058538060936876, 28.85720491862602, ...</td>\n",
              "        </tr>\n",
              "        \n",
              "        <tr>\n",
              "          <td>3</td><td>(27.08475500332118, 13.33032107559741, 17.24285012787526, 34.35750605105223, 3.0244442874218826, ......</td>\n",
              "        </tr>\n",
              "        \n",
              "        <tr>\n",
              "          <td>4</td><td>(25.52787475259755, 19.477567886795008, 16.799760626352906, -8.383396828277068, 17.509151836580948, ...</td>\n",
              "        </tr>\n",
              "        \n",
              "        <tr>\n",
              "          <td>5</td><td>(24.430685415818424, 37.76069833891667, 20.46008648501996, 32.71022629342279, 15.671570096790711, .....</td>\n",
              "        </tr>\n",
              "        \n",
              "        <tr>\n",
              "          <td>6</td><td>(15.095572328974553, 25.318917185187885, 31.247299413058098, 18.461017114134044, 22.353062196968448,...</td>\n",
              "        </tr>\n",
              "        \n",
              "        <tr>\n",
              "          <td>7</td><td>(22.211126504198607, 25.00627797257596, 1.7068517356459303, 20.626907858801832, 20.380228807475167, ...</td>\n",
              "        </tr>\n",
              "        \n",
              "        <tr>\n",
              "          <td>8</td><td>(41.28346792527652, 29.070545303041236, 15.799849908270954, 19.946059211580682, -9.186989000798455, ...</td>\n",
              "        </tr>\n",
              "        <tr><td>...</td><td>...</td></tr>\n",
              "        <tr>\n",
              "          <td>9999</td><td>(10.345119494013158, 14.97905269286256, 18.040632736462765, 24.536578230893994, 14.259978407607813, ...</td>\n",
              "        </tr>\n",
              "        \n",
              "      </tbody>\n",
              "    </table>\n",
              "        "
            ]
          },
          "metadata": {},
          "execution_count": 15
        }
      ]
    },
    {
      "cell_type": "markdown",
      "source": [
        "Now we get the mean of each vector (row) to get 10,000 sample means:"
      ],
      "metadata": {
        "id": "gCMGUJZmqw6D"
      }
    },
    {
      "cell_type": "code",
      "source": [
        "# The 2nd parameter is the mathematical operation applied to each row of the random vector\n",
        "# Simulate 10,000 means of each random vector of 25 uniform distributed numbers: \n",
        "ymean = RV(P,mean).sim(10000)\n",
        "ymean"
      ],
      "metadata": {
        "colab": {
          "base_uri": "https://localhost:8080/",
          "height": 271
        },
        "id": "re50vNURqxfh",
        "outputId": "806dfd98-a088-437a-eba4-aafc2fdec2bb"
      },
      "execution_count": null,
      "outputs": [
        {
          "output_type": "execute_result",
          "data": {
            "text/plain": [
              "Index Result\n",
              "0     20.619956730880553\n",
              "1     20.897686050209444\n",
              "2     23.258112178357763\n",
              "3     20.92122225841034\n",
              "4     17.132042337313102\n",
              "5     19.75575250679033\n",
              "6     18.440819801114234\n",
              "7     16.73450626010462\n",
              "8     19.99739771846911\n",
              "....  ..................\n",
              "9999  20.770131170415265"
            ],
            "text/html": [
              "\n",
              "    <table>\n",
              "      <thead>\n",
              "        <th width=\"10%\">Index</th>\n",
              "        <th width=\"90%\">Result</th>\n",
              "      </thead>\n",
              "      <tbody>\n",
              "        \n",
              "        <tr>\n",
              "          <td>0</td><td>20.619956730880553</td>\n",
              "        </tr>\n",
              "        \n",
              "        <tr>\n",
              "          <td>1</td><td>20.897686050209444</td>\n",
              "        </tr>\n",
              "        \n",
              "        <tr>\n",
              "          <td>2</td><td>23.258112178357763</td>\n",
              "        </tr>\n",
              "        \n",
              "        <tr>\n",
              "          <td>3</td><td>20.92122225841034</td>\n",
              "        </tr>\n",
              "        \n",
              "        <tr>\n",
              "          <td>4</td><td>17.132042337313102</td>\n",
              "        </tr>\n",
              "        \n",
              "        <tr>\n",
              "          <td>5</td><td>19.75575250679033</td>\n",
              "        </tr>\n",
              "        \n",
              "        <tr>\n",
              "          <td>6</td><td>18.440819801114234</td>\n",
              "        </tr>\n",
              "        \n",
              "        <tr>\n",
              "          <td>7</td><td>16.73450626010462</td>\n",
              "        </tr>\n",
              "        \n",
              "        <tr>\n",
              "          <td>8</td><td>19.99739771846911</td>\n",
              "        </tr>\n",
              "        <tr><td>...</td><td>...</td></tr>\n",
              "        <tr>\n",
              "          <td>9999</td><td>20.770131170415265</td>\n",
              "        </tr>\n",
              "        \n",
              "      </tbody>\n",
              "    </table>\n",
              "        "
            ]
          },
          "metadata": {},
          "execution_count": 16
        }
      ]
    },
    {
      "cell_type": "markdown",
      "source": [
        "Now do a histogram of these sample means of Y."
      ],
      "metadata": {
        "id": "m6kltOKiq2Oa"
      }
    },
    {
      "cell_type": "code",
      "source": [
        "plt.clf()\n",
        "ymean.plot()\n",
        "plt.show()"
      ],
      "metadata": {
        "colab": {
          "base_uri": "https://localhost:8080/",
          "height": 265
        },
        "id": "2viXYzYxq2lV",
        "outputId": "abbbc239-b4ca-4273-e74b-38e7f4044a59"
      },
      "execution_count": null,
      "outputs": [
        {
          "output_type": "display_data",
          "data": {
            "text/plain": [
              "<Figure size 432x288 with 1 Axes>"
            ],
            "image/png": "[encoded data removed]"
          },
          "metadata": {
            "needs_background": "light"
          }
        }
      ]
    },
    {
      "cell_type": "markdown",
      "source": [
        "## 2.2.6 CHALLENGE"
      ],
      "metadata": {
        "id": "i5hg88sK_kCG"
      }
    },
    {
      "cell_type": "code",
      "source": [
        "print(ymean.mean())\n",
        "print(ymean.std())"
      ],
      "metadata": {
        "colab": {
          "base_uri": "https://localhost:8080/"
        },
        "id": "6oaywR0Pq72j",
        "outputId": "b1e9d2c2-bf89-4bce-fc1f-ec3f8c0b1f76"
      },
      "execution_count": null,
      "outputs": [
        {
          "output_type": "stream",
          "name": "stdout",
          "text": [
            "20.014467919842883\n",
            "1.9885373245975306\n"
          ]
        }
      ]
    },
    {
      "cell_type": "markdown",
      "source": [
        "Now plot both histograms, the histogram of y and the histogram of ymean:"
      ],
      "metadata": {
        "id": "z4_Dge7LrE34"
      }
    },
    {
      "cell_type": "code",
      "source": [
        "plt.clf()\n",
        "ymean.plot()\n",
        "y.plot()\n",
        "plt.show()"
      ],
      "metadata": {
        "id": "p0uzytRHrEny",
        "outputId": "ace944b8-dcd5-411f-cdf8-e8ea2e910790",
        "colab": {
          "base_uri": "https://localhost:8080/",
          "height": 265
        }
      },
      "execution_count": null,
      "outputs": [
        {
          "output_type": "display_data",
          "data": {
            "text/plain": [
              "<Figure size 432x288 with 1 Axes>"
            ],
            "image/png": "[encoded data removed]"
          },
          "metadata": {
            "needs_background": "light"
          }
        }
      ]
    }
  ]
}